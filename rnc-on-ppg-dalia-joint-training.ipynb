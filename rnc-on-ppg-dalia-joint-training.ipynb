{
 "cells": [
  {
   "cell_type": "code",
   "execution_count": 1,
   "id": "746bb131",
   "metadata": {
    "_kg_hide-output": true,
    "execution": {
     "iopub.execute_input": "2024-11-11T10:45:10.635414Z",
     "iopub.status.busy": "2024-11-11T10:45:10.634618Z",
     "iopub.status.idle": "2024-11-11T10:45:24.062397Z",
     "shell.execute_reply": "2024-11-11T10:45:24.061191Z"
    },
    "papermill": {
     "duration": 13.436307,
     "end_time": "2024-11-11T10:45:24.064797",
     "exception": false,
     "start_time": "2024-11-11T10:45:10.628490",
     "status": "completed"
    },
    "tags": []
   },
   "outputs": [],
   "source": [
    "! pip install -q umap-learn"
   ]
  },
  {
   "cell_type": "code",
   "execution_count": 2,
   "id": "cefad83c",
   "metadata": {
    "_cell_guid": "b1076dfc-b9ad-4769-8c92-a6c4dae69d19",
    "_uuid": "8f2839f25d086af736a60e9eeb907d3b93b6e0e5",
    "execution": {
     "iopub.execute_input": "2024-11-11T10:45:24.075138Z",
     "iopub.status.busy": "2024-11-11T10:45:24.074484Z",
     "iopub.status.idle": "2024-11-11T10:45:24.083286Z",
     "shell.execute_reply": "2024-11-11T10:45:24.082429Z"
    },
    "papermill": {
     "duration": 0.016168,
     "end_time": "2024-11-11T10:45:24.085436",
     "exception": false,
     "start_time": "2024-11-11T10:45:24.069268",
     "status": "completed"
    },
    "tags": []
   },
   "outputs": [
    {
     "name": "stdout",
     "output_type": "stream",
     "text": [
      "Writing loss.py\n"
     ]
    }
   ],
   "source": [
    "%%writefile loss.py\n",
    "import torch\n",
    "import torch.nn as nn\n",
    "import torch.nn.functional as F\n",
    "\n",
    "\n",
    "class LabelDifference(nn.Module):\n",
    "    def __init__(self, distance_type=\"l1\"):\n",
    "        super(LabelDifference, self).__init__()\n",
    "        self.distance_type = distance_type\n",
    "\n",
    "    def forward(self, labels):\n",
    "        # labels: [bs, label_dim]\n",
    "        # output: [bs, bs]\n",
    "        if self.distance_type == \"l1\":\n",
    "            return torch.abs(labels[:, None, :] - labels[None, :, :]).sum(dim=-1)\n",
    "        else:\n",
    "            raise ValueError(self.distance_type)\n",
    "\n",
    "\n",
    "class FeatureSimilarity(nn.Module):\n",
    "    def __init__(self, similarity_type=\"l2\"):\n",
    "        super(FeatureSimilarity, self).__init__()\n",
    "        self.similarity_type = similarity_type\n",
    "\n",
    "    def forward(self, features):\n",
    "        # labels: [bs, feat_dim]\n",
    "        # output: [bs, bs]\n",
    "        if self.similarity_type == \"l2\":\n",
    "            return -(features[:, None, :] - features[None, :, :]).norm(2, dim=-1)\n",
    "        else:\n",
    "            raise ValueError(self.similarity_type)\n",
    "\n",
    "\n",
    "class RnCLoss(nn.Module):\n",
    "    def __init__(self, temperature=2, label_diff=\"l1\", feature_sim=\"l2\"):\n",
    "        super(RnCLoss, self).__init__()\n",
    "        self.t = temperature\n",
    "        self.label_diff_fn = LabelDifference(label_diff)\n",
    "        self.feature_sim_fn = FeatureSimilarity(feature_sim)\n",
    "\n",
    "    def forward(self, features, labels):\n",
    "        # features: [bs, 2, feat_dim]\n",
    "        # labels: [bs, label_dim]\n",
    "\n",
    "        features = torch.cat([features[:, 0], features[:, 1]], dim=0)  # [2bs, feat_dim]\n",
    "        labels = labels.repeat(2, 1)  # [2bs, label_dim]\n",
    "\n",
    "        label_diffs = self.label_diff_fn(labels)\n",
    "        logits = self.feature_sim_fn(features).div(self.t)\n",
    "        logits_max, _ = torch.max(logits, dim=1, keepdim=True)\n",
    "        logits -= logits_max.detach()\n",
    "        exp_logits = logits.exp()\n",
    "\n",
    "        n = logits.shape[0]  # n = 2bs\n",
    "\n",
    "        # remove diagonal\n",
    "        logits = logits.masked_select((1 - torch.eye(n).to(logits.device)).bool()).view(\n",
    "            n, n - 1\n",
    "        )\n",
    "        exp_logits = exp_logits.masked_select(\n",
    "            (1 - torch.eye(n).to(logits.device)).bool()\n",
    "        ).view(n, n - 1)\n",
    "        label_diffs = label_diffs.masked_select(\n",
    "            (1 - torch.eye(n).to(logits.device)).bool()\n",
    "        ).view(n, n - 1)\n",
    "\n",
    "        loss = 0.0\n",
    "        for k in range(n - 1):\n",
    "            pos_logits = logits[:, k]  # 2bs\n",
    "            pos_label_diffs = label_diffs[:, k]  # 2bs\n",
    "            neg_mask = (\n",
    "                label_diffs >= pos_label_diffs.view(-1, 1)\n",
    "            ).float()  # [2bs, 2bs - 1]\n",
    "            pos_log_probs = pos_logits - torch.log(\n",
    "                (neg_mask * exp_logits).sum(dim=-1)\n",
    "            )  # 2bs\n",
    "            loss += -(pos_log_probs / (n * (n - 1))).sum()\n",
    "\n",
    "        return loss\n"
   ]
  },
  {
   "cell_type": "code",
   "execution_count": 3,
   "id": "fd0454b1",
   "metadata": {
    "execution": {
     "iopub.execute_input": "2024-11-11T10:45:24.095801Z",
     "iopub.status.busy": "2024-11-11T10:45:24.095365Z",
     "iopub.status.idle": "2024-11-11T10:45:24.104274Z",
     "shell.execute_reply": "2024-11-11T10:45:24.103359Z"
    },
    "papermill": {
     "duration": 0.016806,
     "end_time": "2024-11-11T10:45:24.106357",
     "exception": false,
     "start_time": "2024-11-11T10:45:24.089551",
     "status": "completed"
    },
    "tags": []
   },
   "outputs": [
    {
     "name": "stdout",
     "output_type": "stream",
     "text": [
      "Writing convnext.py\n"
     ]
    }
   ],
   "source": [
    "%%writefile convnext.py\n",
    "import torch\n",
    "import torch.nn as nn\n",
    "import torch.nn.functional as F\n",
    "from timm.layers import DropPath, trunc_normal_\n",
    "\n",
    "\n",
    "class Block(nn.Module):\n",
    "    def __init__(self, dim, drop_path=0.0, layer_scale_init_value=1e-6):\n",
    "        super().__init__()\n",
    "        self.dwconv = nn.Conv1d(\n",
    "            dim, dim, kernel_size=7, padding=3, groups=dim\n",
    "        )  # depthwise conv\n",
    "        self.norm = LayerNorm(dim, eps=1e-6)\n",
    "        self.pwconv1 = nn.Linear(\n",
    "            dim, 4 * dim\n",
    "        )  # pointwise conv, implemented with linear layers\n",
    "        self.act = nn.GELU()\n",
    "        self.pwconv2 = nn.Linear(4 * dim, dim)\n",
    "        self.gamma = (\n",
    "            nn.Parameter(layer_scale_init_value * torch.ones((dim)), requires_grad=True)\n",
    "            if layer_scale_init_value > 0\n",
    "            else None\n",
    "        )\n",
    "        self.drop_path = DropPath(drop_path) if drop_path > 0.0 else nn.Identity()\n",
    "\n",
    "    def forward(self, x):\n",
    "        input = x\n",
    "        x = self.dwconv(x)\n",
    "        x = x.permute(0, 2, 1)  # (N, C, W) -> (N, W, C)\n",
    "        x = self.norm(x)\n",
    "        x = self.pwconv1(x)\n",
    "        x = self.act(x)\n",
    "        x = self.pwconv2(x)\n",
    "        if self.gamma is not None:\n",
    "            x = self.gamma * x\n",
    "        x = x.permute(0, 2, 1)  # (N, W, C) -> (N, C, W)\n",
    "        x = input + self.drop_path(x)\n",
    "        return x\n",
    "\n",
    "\n",
    "class ConvNeXt(nn.Module):\n",
    "    def __init__(\n",
    "        self,\n",
    "        in_chans=1,\n",
    "        num_classes=1000,\n",
    "        depths=[3, 3, 9, 3],\n",
    "        dims=[96, 192, 384, 768],\n",
    "        drop_path_rate=0.0,\n",
    "        layer_scale_init_value=1e-6,\n",
    "        head_init_scale=1.0,\n",
    "    ):\n",
    "        super().__init__()\n",
    "\n",
    "        self.downsample_layers = (\n",
    "            nn.ModuleList()\n",
    "        )  # stem and 3 intermediate downsampling conv layers\n",
    "        stem = nn.Sequential(\n",
    "            nn.Conv1d(in_chans, dims[0], kernel_size=4, stride=4),\n",
    "            LayerNorm(dims[0], eps=1e-6, data_format=\"channels_first\"),\n",
    "        )\n",
    "        self.downsample_layers.append(stem)\n",
    "        for i in range(3):\n",
    "            downsample_layer = nn.Sequential(\n",
    "                LayerNorm(dims[i], eps=1e-6, data_format=\"channels_first\"),\n",
    "                nn.Conv1d(dims[i], dims[i + 1], kernel_size=2, stride=2),\n",
    "            )\n",
    "            self.downsample_layers.append(downsample_layer)\n",
    "\n",
    "        self.stages = (\n",
    "            nn.ModuleList()\n",
    "        )  # 4 feature resolution stages, each consisting of multiple residual blocks\n",
    "        dp_rates = [x.item() for x in torch.linspace(0, drop_path_rate, sum(depths))]\n",
    "        cur = 0\n",
    "        for i in range(4):\n",
    "            stage = nn.Sequential(\n",
    "                *[\n",
    "                    Block(\n",
    "                        dim=dims[i],\n",
    "                        drop_path=dp_rates[cur + j],\n",
    "                        layer_scale_init_value=layer_scale_init_value,\n",
    "                    )\n",
    "                    for j in range(depths[i])\n",
    "                ]\n",
    "            )\n",
    "            self.stages.append(stage)\n",
    "            cur += depths[i]\n",
    "\n",
    "        self.norm = nn.LayerNorm(dims[-1], eps=1e-6)  # final norm layer\n",
    "        self.head = nn.Linear(dims[-1], num_classes)\n",
    "\n",
    "        self.apply(self._init_weights)\n",
    "        self.head.weight.data.mul_(head_init_scale)\n",
    "        self.head.bias.data.mul_(head_init_scale)\n",
    "\n",
    "    def _init_weights(self, m):\n",
    "        if isinstance(m, (nn.Conv1d, nn.Linear)):\n",
    "            trunc_normal_(m.weight, std=0.02)\n",
    "            nn.init.constant_(m.bias, 0)\n",
    "\n",
    "    def forward_features(self, x):\n",
    "        for i in range(4):\n",
    "            x = self.downsample_layers[i](x)\n",
    "            x = self.stages[i](x)\n",
    "        return self.norm(x.mean(-1))  # global average pooling, (N, C, W) -> (N, C)\n",
    "\n",
    "    def forward(self, x):\n",
    "        x = self.forward_features(x)\n",
    "        x = self.head(x)\n",
    "        return x\n",
    "\n",
    "\n",
    "class LayerNorm(nn.Module):\n",
    "    def __init__(self, normalized_shape, eps=1e-6, data_format=\"channels_last\"):\n",
    "        super().__init__()\n",
    "        self.weight = nn.Parameter(torch.ones(normalized_shape))\n",
    "        self.bias = nn.Parameter(torch.zeros(normalized_shape))\n",
    "        self.eps = eps\n",
    "        self.data_format = data_format\n",
    "        if self.data_format not in [\"channels_last\", \"channels_first\"]:\n",
    "            raise NotImplementedError\n",
    "        self.normalized_shape = (normalized_shape,)\n",
    "\n",
    "    def forward(self, x):\n",
    "        if self.data_format == \"channels_last\":\n",
    "            return F.layer_norm(\n",
    "                x, self.normalized_shape, self.weight, self.bias, self.eps\n",
    "            )\n",
    "        elif self.data_format == \"channels_first\":\n",
    "            u = x.mean(1, keepdim=True)\n",
    "            s = (x - u).pow(2).mean(1, keepdim=True)\n",
    "            x = (x - u) / torch.sqrt(s + self.eps)\n",
    "            x = self.weight[:, None] * x + self.bias[:, None]\n",
    "            return x\n",
    "\n",
    "\n",
    "def convnext_tiny(**kwargs):\n",
    "    model = ConvNeXt(depths=[3, 3, 9, 3], dims=[96, 192, 384, 768], **kwargs)\n",
    "    return model\n",
    "\n",
    "\n",
    "def convnext_small(**kwargs):\n",
    "    model = ConvNeXt(depths=[3, 3, 27, 3], dims=[96, 192, 384, 768], **kwargs)\n",
    "    return model\n",
    "\n",
    "\n",
    "def convnext_base(**kwargs):\n",
    "    model = ConvNeXt(depths=[3, 3, 27, 3], dims=[128, 256, 512, 1024], **kwargs)\n",
    "    return model\n",
    "\n",
    "\n",
    "def convnext_large(**kwargs):\n",
    "    model = ConvNeXt(depths=[3, 3, 27, 3], dims=[192, 384, 768, 1536], **kwargs)\n",
    "    return model\n",
    "\n",
    "\n",
    "def convnext_xlarge(**kwargs):\n",
    "    model = ConvNeXt(depths=[3, 3, 27, 3], dims=[256, 512, 1024, 2048], **kwargs)\n",
    "    return model\n"
   ]
  },
  {
   "cell_type": "code",
   "execution_count": 4,
   "id": "8a9d4ccc",
   "metadata": {
    "execution": {
     "iopub.execute_input": "2024-11-11T10:45:24.116612Z",
     "iopub.status.busy": "2024-11-11T10:45:24.115918Z",
     "iopub.status.idle": "2024-11-11T10:45:24.123045Z",
     "shell.execute_reply": "2024-11-11T10:45:24.122103Z"
    },
    "papermill": {
     "duration": 0.014648,
     "end_time": "2024-11-11T10:45:24.125249",
     "exception": false,
     "start_time": "2024-11-11T10:45:24.110601",
     "status": "completed"
    },
    "tags": []
   },
   "outputs": [
    {
     "name": "stdout",
     "output_type": "stream",
     "text": [
      "Writing ppg_dalia.py\n"
     ]
    }
   ],
   "source": [
    "%%writefile ppg_dalia.py\n",
    "import glob\n",
    "import os\n",
    "\n",
    "import mne\n",
    "import numpy as np\n",
    "import torch\n",
    "from sklearn.model_selection import train_test_split\n",
    "from torch.utils.data import Dataset\n",
    "\n",
    "data_dir = \"/kaggle/input/ppg-dalia-processed\"\n",
    "filepaths = glob.glob(os.path.join(data_dir, \"*.npz\"))\n",
    "\n",
    "# 80%-10%-10%\n",
    "train_files, test_files = train_test_split(\n",
    "    filepaths,\n",
    "    test_size=0.2,\n",
    "    shuffle=True,\n",
    "    random_state=42,\n",
    ")\n",
    "val_files, test_files = train_test_split(\n",
    "    test_files,\n",
    "    test_size=0.5,\n",
    "    shuffle=True,\n",
    "    random_state=42,\n",
    ")\n",
    "\n",
    "files = {\n",
    "    \"train\": train_files,\n",
    "    \"val\": val_files,\n",
    "    \"test\": test_files,\n",
    "}\n",
    "ecgs = {\"train\": [], \"val\": [], \"test\": []}\n",
    "ppgs = {\"train\": [], \"val\": [], \"test\": []}\n",
    "\n",
    "labels = {\"train\": [], \"val\": [], \"test\": []}\n",
    "\n",
    "for split in [\"train\", \"val\", \"test\"]:\n",
    "    for file in files[split]:\n",
    "        data = np.load(file)\n",
    "        ecg = data[\"ecg\"]\n",
    "        ppg = data[\"ppg\"]\n",
    "        label = data[\"label\"]\n",
    "        ecg_resampled = mne.filter.resample(ecg.astype(float), down=700 / 64)\n",
    "\n",
    "        ecgs[split].append(ecg_resampled)\n",
    "        ppgs[split].append(ppg)\n",
    "        labels[split].append(label)\n",
    "\n",
    "    ecgs[split] = np.concatenate(ecgs[split], axis=0)\n",
    "    ppgs[split] = np.concatenate(ppgs[split], axis=0)\n",
    "    labels[split] = np.concatenate(labels[split], axis=0)\n",
    "\n",
    "mean, std = labels[\"train\"].mean(), labels[\"train\"].std()\n",
    "\n",
    "\n",
    "def normalize_labels(label):\n",
    "    return (label - mean) / std\n",
    "\n",
    "\n",
    "def unnormalize_labels(label):\n",
    "    return std * label + mean\n",
    "\n",
    "\n",
    "class PPG_DaLiA(Dataset):\n",
    "\n",
    "    def __init__(self, ecgs, ppgs, labels):\n",
    "        self.ecgs = (ecgs - np.min(ecgs)) / (np.max(ecgs) - np.min(ecgs))\n",
    "        self.ppgs = (ppgs - np.min(ppgs)) / (np.max(ppgs) - np.min(ppgs))\n",
    "        self.labels = normalize_labels(labels)\n",
    "\n",
    "    def __len__(self):\n",
    "        return len(self.labels)\n",
    "\n",
    "    def __getitem__(self, index):\n",
    "        ecg = torch.as_tensor(self.ecgs[index], dtype=torch.float32)\n",
    "        ppg = torch.as_tensor(self.ppgs[index], dtype=torch.float32)\n",
    "        label = torch.as_tensor(self.labels[index], dtype=torch.float32)\n",
    "\n",
    "        ecg = ecg.unsqueeze(0)\n",
    "        ppg = ppg.unsqueeze(0)\n",
    "        label = label.unsqueeze(0)\n",
    "\n",
    "        return ecg, ppg, label\n",
    "\n",
    "\n",
    "dataset = {\n",
    "    \"train\": PPG_DaLiA(ecgs[\"train\"], ppgs[\"train\"], labels[\"train\"]),\n",
    "    \"val\": PPG_DaLiA(ecgs[\"val\"], ppgs[\"val\"], labels[\"val\"]),\n",
    "    \"test\": PPG_DaLiA(ecgs[\"test\"], ppgs[\"test\"], labels[\"test\"]),\n",
    "}\n"
   ]
  },
  {
   "cell_type": "code",
   "execution_count": 5,
   "id": "245c496b",
   "metadata": {
    "execution": {
     "iopub.execute_input": "2024-11-11T10:45:24.135159Z",
     "iopub.status.busy": "2024-11-11T10:45:24.134820Z",
     "iopub.status.idle": "2024-11-11T11:25:56.988671Z",
     "shell.execute_reply": "2024-11-11T11:25:56.987617Z"
    },
    "papermill": {
     "duration": 2432.862218,
     "end_time": "2024-11-11T11:25:56.991650",
     "exception": false,
     "start_time": "2024-11-11T10:45:24.129432",
     "status": "completed"
    },
    "tags": []
   },
   "outputs": [
    {
     "name": "stdout",
     "output_type": "stream",
     "text": [
      "Model params: 2.86 M\n"
     ]
    },
    {
     "data": {
      "application/vnd.jupyter.widget-view+json": {
       "model_id": "460946f415204a539dc51f120db7e3de",
       "version_major": 2,
       "version_minor": 0
      },
      "text/plain": [
       "  0%|          | 0/32160 [00:00<?, ?it/s]"
      ]
     },
     "metadata": {},
     "output_type": "display_data"
    },
    {
     "name": "stdout",
     "output_type": "stream",
     "text": [
      "Epoch=0, Train/Loss=2.79, Val/MAE=15.86\n",
      "Epoch=1, Train/Loss=2.40, Val/MAE=10.90\n",
      "Epoch=2, Train/Loss=2.27, Val/MAE=11.76\n",
      "Epoch=3, Train/Loss=2.20, Val/MAE=7.93\n",
      "Epoch=4, Train/Loss=2.14, Val/MAE=8.95\n",
      "Epoch=5, Train/Loss=2.09, Val/MAE=10.59\n",
      "Epoch=6, Train/Loss=2.04, Val/MAE=8.71\n",
      "Epoch=7, Train/Loss=2.00, Val/MAE=9.17\n",
      "Epoch=8, Train/Loss=1.95, Val/MAE=9.13\n",
      "Epoch=9, Train/Loss=1.90, Val/MAE=10.77\n",
      "Epoch=10, Train/Loss=1.86, Val/MAE=10.00\n",
      "Epoch=11, Train/Loss=1.82, Val/MAE=8.62\n",
      "Epoch=12, Train/Loss=1.77, Val/MAE=9.64\n",
      "Epoch=13, Train/Loss=1.77, Val/MAE=10.12\n",
      "Epoch=14, Train/Loss=1.70, Val/MAE=9.11\n",
      "Epoch=15, Train/Loss=1.68, Val/MAE=8.83\n",
      "Epoch=16, Train/Loss=1.66, Val/MAE=8.56\n",
      "Epoch=17, Train/Loss=1.63, Val/MAE=10.39\n",
      "Epoch=18, Train/Loss=1.60, Val/MAE=10.01\n",
      "Epoch=19, Train/Loss=1.58, Val/MAE=8.35\n"
     ]
    }
   ],
   "source": [
    "import matplotlib.pyplot as plt\n",
    "import numpy as np\n",
    "import torch\n",
    "import torch.nn.functional as F\n",
    "from torch.utils.data import DataLoader\n",
    "from torchmetrics.aggregation import MeanMetric\n",
    "from tqdm.auto import tqdm\n",
    "\n",
    "from convnext import ConvNeXt\n",
    "from loss import RnCLoss\n",
    "from ppg_dalia import dataset, unnormalize_labels\n",
    "\n",
    "device = \"cuda\" if torch.cuda.is_available() else \"cpu\"\n",
    "batch_size = 32\n",
    "train_loader = DataLoader(dataset[\"train\"], batch_size=batch_size, shuffle=True)\n",
    "val_loader = DataLoader(dataset[\"val\"], batch_size=batch_size)\n",
    "test_loader = DataLoader(dataset[\"test\"], batch_size=batch_size)\n",
    "\n",
    "ecg_enc = ConvNeXt(depths=[3, 3, 9, 3], dims=[32, 64, 128, 256], num_classes=1)\n",
    "ecg_enc.to(device)\n",
    "\n",
    "ppg_enc = ConvNeXt(depths=[3, 3, 9, 3], dims=[32, 64, 128, 256], num_classes=1)\n",
    "ppg_enc.to(device)\n",
    "\n",
    "model_size = 0\n",
    "for param in ppg_enc.parameters():\n",
    "    model_size += param.data.nelement()\n",
    "print(\"Model params: %.2f M\" % (model_size / 1024 / 1024))\n",
    "\n",
    "# Pretraining: Rank-N-Constrast\n",
    "epochs = 20\n",
    "lr = 3e-4\n",
    "optimizer_ppg = torch.optim.Adam(ppg_enc.parameters(), lr=lr)\n",
    "optimizer_ecg = torch.optim.Adam(ecg_enc.parameters(), lr=lr)\n",
    "criterion = RnCLoss(temperature=2, label_diff=\"l1\", feature_sim=\"l2\")\n",
    "\n",
    "avg_loss = MeanMetric()\n",
    "train_losses = []\n",
    "val_mae = []\n",
    "\n",
    "pbar = tqdm(total=epochs*len(train_loader))\n",
    "\n",
    "for epoch in range(epochs):\n",
    "    for ecgs, ppgs, labels in train_loader:\n",
    "        ecgs = ecgs.to(device)\n",
    "        ppgs = ppgs.to(device)\n",
    "        labels = labels.to(device)\n",
    "\n",
    "        ecg_feats = ecg_enc.forward_features(ppgs)\n",
    "        ppg_feats = ppg_enc.forward_features(ppgs)\n",
    "        feats = torch.stack([ecg_feats, ppg_feats], dim=1)\n",
    "        rnc_loss = criterion(feats, labels)\n",
    "        \n",
    "        preds = ppg_enc.head(ppg_feats)\n",
    "        l2_loss = F.mse_loss(preds, labels)\n",
    "        \n",
    "        loss = 0.2*l2_loss + 0.8*rnc_loss\n",
    "\n",
    "        optimizer_ecg.zero_grad()\n",
    "        optimizer_ppg.zero_grad()\n",
    "        loss.backward()\n",
    "        optimizer_ecg.step()\n",
    "        optimizer_ppg.step()\n",
    "\n",
    "        train_losses.append(loss.item())\n",
    "        avg_loss.update(loss.item())\n",
    "        pbar.update()\n",
    "    \n",
    "    batched_errors = []\n",
    "    for _, inputs, labels in val_loader:\n",
    "        inputs = inputs.to(device)\n",
    "        labels = labels.to(device)\n",
    "\n",
    "        with torch.no_grad():\n",
    "            preds = ppg_enc(inputs)\n",
    "\n",
    "        errors = F.l1_loss(\n",
    "            unnormalize_labels(preds),\n",
    "            unnormalize_labels(labels),\n",
    "            reduction=\"none\",\n",
    "        )\n",
    "        batched_errors.append(errors.cpu().numpy())\n",
    "\n",
    "    batched_errors = np.concatenate(batched_errors, axis=0)\n",
    "    mae = np.mean(batched_errors)\n",
    "    val_mae.append(mae)\n",
    "    \n",
    "    print(f\"Epoch={epoch}, Train/Loss={avg_loss.compute():.2f}, Val/MAE={mae:.2f}\")\n",
    "    avg_loss.reset()\n",
    "\n",
    "pbar.close()"
   ]
  },
  {
   "cell_type": "code",
   "execution_count": 6,
   "id": "fe143623",
   "metadata": {
    "execution": {
     "iopub.execute_input": "2024-11-11T11:25:57.007334Z",
     "iopub.status.busy": "2024-11-11T11:25:57.006955Z",
     "iopub.status.idle": "2024-11-11T11:25:57.344702Z",
     "shell.execute_reply": "2024-11-11T11:25:57.343783Z"
    },
    "papermill": {
     "duration": 0.348095,
     "end_time": "2024-11-11T11:25:57.346960",
     "exception": false,
     "start_time": "2024-11-11T11:25:56.998865",
     "status": "completed"
    },
    "tags": []
   },
   "outputs": [
    {
     "data": {
      "image/png": "[encoded data removed]",
      "text/plain": [
       "<Figure size 640x480 with 1 Axes>"
      ]
     },
     "metadata": {},
     "output_type": "display_data"
    }
   ],
   "source": [
    "plt.plot(train_losses)\n",
    "plt.xlabel(\"Step\")\n",
    "plt.title(\"Train/Loss\")\n",
    "plt.show()"
   ]
  },
  {
   "cell_type": "code",
   "execution_count": 7,
   "id": "5a11d117",
   "metadata": {
    "execution": {
     "iopub.execute_input": "2024-11-11T11:25:57.361996Z",
     "iopub.status.busy": "2024-11-11T11:25:57.361196Z",
     "iopub.status.idle": "2024-11-11T11:25:57.581010Z",
     "shell.execute_reply": "2024-11-11T11:25:57.580082Z"
    },
    "papermill": {
     "duration": 0.229695,
     "end_time": "2024-11-11T11:25:57.583141",
     "exception": false,
     "start_time": "2024-11-11T11:25:57.353446",
     "status": "completed"
    },
    "tags": []
   },
   "outputs": [
    {
     "data": {
      "image/png": "[encoded data removed]",
      "text/plain": [
       "<Figure size 640x480 with 1 Axes>"
      ]
     },
     "metadata": {},
     "output_type": "display_data"
    }
   ],
   "source": [
    "plt.plot(val_mae)\n",
    "plt.xlabel(\"Step\")\n",
    "plt.title(\"Val/MAE\")\n",
    "plt.show()"
   ]
  },
  {
   "cell_type": "code",
   "execution_count": 8,
   "id": "25e3e0d1",
   "metadata": {
    "execution": {
     "iopub.execute_input": "2024-11-11T11:25:57.599314Z",
     "iopub.status.busy": "2024-11-11T11:25:57.598645Z",
     "iopub.status.idle": "2024-11-11T11:25:59.856655Z",
     "shell.execute_reply": "2024-11-11T11:25:59.855461Z"
    },
    "papermill": {
     "duration": 2.268315,
     "end_time": "2024-11-11T11:25:59.858646",
     "exception": false,
     "start_time": "2024-11-11T11:25:57.590331",
     "status": "completed"
    },
    "tags": []
   },
   "outputs": [
    {
     "name": "stdout",
     "output_type": "stream",
     "text": [
      "Test MAE: 8.233009\n"
     ]
    }
   ],
   "source": [
    "model = ppg_enc\n",
    "\n",
    "batched_errors = []\n",
    "for _, inputs, labels in test_loader:\n",
    "    inputs = inputs.to(device)\n",
    "    labels = labels.to(device)\n",
    "\n",
    "    with torch.no_grad():\n",
    "        preds = model(inputs)\n",
    "\n",
    "    errors = F.l1_loss(\n",
    "        unnormalize_labels(preds), unnormalize_labels(labels), reduction='none',\n",
    "    )\n",
    "    batched_errors.append(errors.cpu().numpy())\n",
    "\n",
    "batched_errors = np.concatenate(batched_errors, axis=0)\n",
    "mae = np.mean(batched_errors)\n",
    "\n",
    "print(\"Test MAE:\", mae)"
   ]
  },
  {
   "cell_type": "markdown",
   "id": "7257fc74",
   "metadata": {
    "papermill": {
     "duration": 0.006807,
     "end_time": "2024-11-11T11:25:59.872559",
     "exception": false,
     "start_time": "2024-11-11T11:25:59.865752",
     "status": "completed"
    },
    "tags": []
   },
   "source": [
    "## Examining Feature Space"
   ]
  },
  {
   "cell_type": "code",
   "execution_count": 9,
   "id": "6a81bbee",
   "metadata": {
    "execution": {
     "iopub.execute_input": "2024-11-11T11:25:59.887918Z",
     "iopub.status.busy": "2024-11-11T11:25:59.887531Z",
     "iopub.status.idle": "2024-11-11T11:26:00.881177Z",
     "shell.execute_reply": "2024-11-11T11:26:00.880140Z"
    },
    "papermill": {
     "duration": 1.004195,
     "end_time": "2024-11-11T11:26:00.883603",
     "exception": false,
     "start_time": "2024-11-11T11:25:59.879408",
     "status": "completed"
    },
    "tags": []
   },
   "outputs": [],
   "source": [
    "batched_feats = []\n",
    "batched_labels = []\n",
    "for _, inputs, labels in val_loader:\n",
    "    inputs = inputs.to(device)\n",
    "    labels = labels.to(device)\n",
    "\n",
    "    with torch.no_grad():\n",
    "        feats = model.forward_features(inputs)\n",
    "    \n",
    "    batched_feats.append(feats.cpu())\n",
    "    batched_labels.append(labels.cpu())\n",
    "    \n",
    "feats = torch.cat(batched_feats, dim=0)\n",
    "labels = torch.cat(batched_labels, dim=0)"
   ]
  },
  {
   "cell_type": "code",
   "execution_count": 10,
   "id": "1e6070db",
   "metadata": {
    "execution": {
     "iopub.execute_input": "2024-11-11T11:26:00.899465Z",
     "iopub.status.busy": "2024-11-11T11:26:00.899100Z",
     "iopub.status.idle": "2024-11-11T11:26:56.598855Z",
     "shell.execute_reply": "2024-11-11T11:26:56.597822Z"
    },
    "papermill": {
     "duration": 55.710429,
     "end_time": "2024-11-11T11:26:56.601355",
     "exception": false,
     "start_time": "2024-11-11T11:26:00.890926",
     "status": "completed"
    },
    "tags": []
   },
   "outputs": [],
   "source": [
    "import umap\n",
    "\n",
    "feats_reduced = umap.UMAP().fit_transform(feats)"
   ]
  },
  {
   "cell_type": "code",
   "execution_count": 11,
   "id": "2a9bf17d",
   "metadata": {
    "execution": {
     "iopub.execute_input": "2024-11-11T11:26:56.618564Z",
     "iopub.status.busy": "2024-11-11T11:26:56.617827Z",
     "iopub.status.idle": "2024-11-11T11:26:57.037360Z",
     "shell.execute_reply": "2024-11-11T11:26:57.036450Z"
    },
    "papermill": {
     "duration": 0.431165,
     "end_time": "2024-11-11T11:26:57.040196",
     "exception": false,
     "start_time": "2024-11-11T11:26:56.609031",
     "status": "completed"
    },
    "tags": []
   },
   "outputs": [
    {
     "data": {
      "image/png": "[encoded data removed]",
      "text/plain": [
       "<Figure size 640x480 with 2 Axes>"
      ]
     },
     "metadata": {},
     "output_type": "display_data"
    }
   ],
   "source": [
    "plt.scatter(\n",
    "    feats_reduced[:, 0],\n",
    "    feats_reduced[:, 1],\n",
    "    c=unnormalize_labels(labels).squeeze(),\n",
    "    cmap=\"magma\",\n",
    ")\n",
    "plt.colorbar()\n",
    "plt.show()"
   ]
  }
 ],
 "metadata": {
  "kaggle": {
   "accelerator": "gpu",
   "dataSources": [
    {
     "datasetId": 5711874,
     "sourceId": 9407429,
     "sourceType": "datasetVersion"
    }
   ],
   "dockerImageVersionId": 30787,
   "isGpuEnabled": true,
   "isInternetEnabled": true,
   "language": "python",
   "sourceType": "notebook"
  },
  "kernelspec": {
   "display_name": "Python 3",
   "language": "python",
   "name": "python3"
  },
  "language_info": {
   "codemirror_mode": {
    "name": "ipython",
    "version": 3
   },
   "file_extension": ".py",
   "mimetype": "text/x-python",
   "name": "python",
   "nbconvert_exporter": "python",
   "pygments_lexer": "ipython3",
   "version": "3.10.14"
  },
  "papermill": {
   "default_parameters": {},
   "duration": 2512.719747,
   "end_time": "2024-11-11T11:27:00.578395",
   "environment_variables": {},
   "exception": null,
   "input_path": "__notebook__.ipynb",
   "output_path": "__notebook__.ipynb",
   "parameters": {},
   "start_time": "2024-11-11T10:45:07.858648",
   "version": "2.6.0"
  },
  "widgets": {
   "application/vnd.jupyter.widget-state+json": {
    "state": {
     "03eec81dfdd448daa6421f99b7eb3b18": {
      "model_module": "@jupyter-widgets/base",
      "model_module_version": "1.2.0",
      "model_name": "LayoutModel",
      "state": {
       "_model_module": "@jupyter-widgets/base",
       "_model_module_version": "1.2.0",
       "_model_name": "LayoutModel",
       "_view_count": null,
       "_view_module": "@jupyter-widgets/base",
       "_view_module_version": "1.2.0",
       "_view_name": "LayoutView",
       "align_content": null,
       "align_items": null,
       "align_self": null,
       "border": null,
       "bottom": null,
       "display": null,
       "flex": null,
       "flex_flow": null,
       "grid_area": null,
       "grid_auto_columns": null,
       "grid_auto_flow": null,
       "grid_auto_rows": null,
       "grid_column": null,
       "grid_gap": null,
       "grid_row": null,
       "grid_template_areas": null,
       "grid_template_columns": null,
       "grid_template_rows": null,
       "height": null,
       "justify_content": null,
       "justify_items": null,
       "left": null,
       "margin": null,
       "max_height": null,
       "max_width": null,
       "min_height": null,
       "min_width": null,
       "object_fit": null,
       "object_position": null,
       "order": null,
       "overflow": null,
       "overflow_x": null,
       "overflow_y": null,
       "padding": null,
       "right": null,
       "top": null,
       "visibility": null,
       "width": null
      }
     },
     "1e63d6ccf75e45de93f48f0b9dd96eaf": {
      "model_module": "@jupyter-widgets/controls",
      "model_module_version": "1.5.0",
      "model_name": "DescriptionStyleModel",
      "state": {
       "_model_module": "@jupyter-widgets/controls",
       "_model_module_version": "1.5.0",
       "_model_name": "DescriptionStyleModel",
       "_view_count": null,
       "_view_module": "@jupyter-widgets/base",
       "_view_module_version": "1.2.0",
       "_view_name": "StyleView",
       "description_width": ""
      }
     },
     "2ddb7a5436b3435dae674a7de6c382e9": {
      "model_module": "@jupyter-widgets/base",
      "model_module_version": "1.2.0",
      "model_name": "LayoutModel",
      "state": {
       "_model_module": "@jupyter-widgets/base",
       "_model_module_version": "1.2.0",
       "_model_name": "LayoutModel",
       "_view_count": null,
       "_view_module": "@jupyter-widgets/base",
       "_view_module_version": "1.2.0",
       "_view_name": "LayoutView",
       "align_content": null,
       "align_items": null,
       "align_self": null,
       "border": null,
       "bottom": null,
       "display": null,
       "flex": null,
       "flex_flow": null,
       "grid_area": null,
       "grid_auto_columns": null,
       "grid_auto_flow": null,
       "grid_auto_rows": null,
       "grid_column": null,
       "grid_gap": null,
       "grid_row": null,
       "grid_template_areas": null,
       "grid_template_columns": null,
       "grid_template_rows": null,
       "height": null,
       "justify_content": null,
       "justify_items": null,
       "left": null,
       "margin": null,
       "max_height": null,
       "max_width": null,
       "min_height": null,
       "min_width": null,
       "object_fit": null,
       "object_position": null,
       "order": null,
       "overflow": null,
       "overflow_x": null,
       "overflow_y": null,
       "padding": null,
       "right": null,
       "top": null,
       "visibility": null,
       "width": null
      }
     },
     "460946f415204a539dc51f120db7e3de": {
      "model_module": "@jupyter-widgets/controls",
      "model_module_version": "1.5.0",
      "model_name": "HBoxModel",
      "state": {
       "_dom_classes": [],
       "_model_module": "@jupyter-widgets/controls",
       "_model_module_version": "1.5.0",
       "_model_name": "HBoxModel",
       "_view_count": null,
       "_view_module": "@jupyter-widgets/controls",
       "_view_module_version": "1.5.0",
       "_view_name": "HBoxView",
       "box_style": "",
       "children": [
        "IPY_MODEL_8713b8eaf0534b3cbbf6028f3d56df64",
        "IPY_MODEL_5cd6713df4b844558289b34eefb26b1c",
        "IPY_MODEL_ca319a27016843d791775eb8e5ae2397"
       ],
       "layout": "IPY_MODEL_9fbb83f65a5141aaa93f60dc7f5837ce"
      }
     },
     "5cd6713df4b844558289b34eefb26b1c": {
      "model_module": "@jupyter-widgets/controls",
      "model_module_version": "1.5.0",
      "model_name": "FloatProgressModel",
      "state": {
       "_dom_classes": [],
       "_model_module": "@jupyter-widgets/controls",
       "_model_module_version": "1.5.0",
       "_model_name": "FloatProgressModel",
       "_view_count": null,
       "_view_module": "@jupyter-widgets/controls",
       "_view_module_version": "1.5.0",
       "_view_name": "ProgressView",
       "bar_style": "success",
       "description": "",
       "description_tooltip": null,
       "layout": "IPY_MODEL_03eec81dfdd448daa6421f99b7eb3b18",
       "max": 32160.0,
       "min": 0.0,
       "orientation": "horizontal",
       "style": "IPY_MODEL_d1428ee0e9f747d5885191d027240ee3",
       "value": 32160.0
      }
     },
     "86e97ebf5b4f4f1f97ed4405b9e6c4e1": {
      "model_module": "@jupyter-widgets/controls",
      "model_module_version": "1.5.0",
      "model_name": "DescriptionStyleModel",
      "state": {
       "_model_module": "@jupyter-widgets/controls",
       "_model_module_version": "1.5.0",
       "_model_name": "DescriptionStyleModel",
       "_view_count": null,
       "_view_module": "@jupyter-widgets/base",
       "_view_module_version": "1.2.0",
       "_view_name": "StyleView",
       "description_width": ""
      }
     },
     "8713b8eaf0534b3cbbf6028f3d56df64": {
      "model_module": "@jupyter-widgets/controls",
      "model_module_version": "1.5.0",
      "model_name": "HTMLModel",
      "state": {
       "_dom_classes": [],
       "_model_module": "@jupyter-widgets/controls",
       "_model_module_version": "1.5.0",
       "_model_name": "HTMLModel",
       "_view_count": null,
       "_view_module": "@jupyter-widgets/controls",
       "_view_module_version": "1.5.0",
       "_view_name": "HTMLView",
       "description": "",
       "description_tooltip": null,
       "layout": "IPY_MODEL_2ddb7a5436b3435dae674a7de6c382e9",
       "placeholder": "​",
       "style": "IPY_MODEL_86e97ebf5b4f4f1f97ed4405b9e6c4e1",
       "value": "100%"
      }
     },
     "9fbb83f65a5141aaa93f60dc7f5837ce": {
      "model_module": "@jupyter-widgets/base",
      "model_module_version": "1.2.0",
      "model_name": "LayoutModel",
      "state": {
       "_model_module": "@jupyter-widgets/base",
       "_model_module_version": "1.2.0",
       "_model_name": "LayoutModel",
       "_view_count": null,
       "_view_module": "@jupyter-widgets/base",
       "_view_module_version": "1.2.0",
       "_view_name": "LayoutView",
       "align_content": null,
       "align_items": null,
       "align_self": null,
       "border": null,
       "bottom": null,
       "display": null,
       "flex": null,
       "flex_flow": null,
       "grid_area": null,
       "grid_auto_columns": null,
       "grid_auto_flow": null,
       "grid_auto_rows": null,
       "grid_column": null,
       "grid_gap": null,
       "grid_row": null,
       "grid_template_areas": null,
       "grid_template_columns": null,
       "grid_template_rows": null,
       "height": null,
       "justify_content": null,
       "justify_items": null,
       "left": null,
       "margin": null,
       "max_height": null,
       "max_width": null,
       "min_height": null,
       "min_width": null,
       "object_fit": null,
       "object_position": null,
       "order": null,
       "overflow": null,
       "overflow_x": null,
       "overflow_y": null,
       "padding": null,
       "right": null,
       "top": null,
       "visibility": null,
       "width": null
      }
     },
     "a5814e22371c4e028acb8bedfee5cb3b": {
      "model_module": "@jupyter-widgets/base",
      "model_module_version": "1.2.0",
      "model_name": "LayoutModel",
      "state": {
       "_model_module": "@jupyter-widgets/base",
       "_model_module_version": "1.2.0",
       "_model_name": "LayoutModel",
       "_view_count": null,
       "_view_module": "@jupyter-widgets/base",
       "_view_module_version": "1.2.0",
       "_view_name": "LayoutView",
       "align_content": null,
       "align_items": null,
       "align_self": null,
       "border": null,
       "bottom": null,
       "display": null,
       "flex": null,
       "flex_flow": null,
       "grid_area": null,
       "grid_auto_columns": null,
       "grid_auto_flow": null,
       "grid_auto_rows": null,
       "grid_column": null,
       "grid_gap": null,
       "grid_row": null,
       "grid_template_areas": null,
       "grid_template_columns": null,
       "grid_template_rows": null,
       "height": null,
       "justify_content": null,
       "justify_items": null,
       "left": null,
       "margin": null,
       "max_height": null,
       "max_width": null,
       "min_height": null,
       "min_width": null,
       "object_fit": null,
       "object_position": null,
       "order": null,
       "overflow": null,
       "overflow_x": null,
       "overflow_y": null,
       "padding": null,
       "right": null,
       "top": null,
       "visibility": null,
       "width": null
      }
     },
     "ca319a27016843d791775eb8e5ae2397": {
      "model_module": "@jupyter-widgets/controls",
      "model_module_version": "1.5.0",
      "model_name": "HTMLModel",
      "state": {
       "_dom_classes": [],
       "_model_module": "@jupyter-widgets/controls",
       "_model_module_version": "1.5.0",
       "_model_name": "HTMLModel",
       "_view_count": null,
       "_view_module": "@jupyter-widgets/controls",
       "_view_module_version": "1.5.0",
       "_view_name": "HTMLView",
       "description": "",
       "description_tooltip": null,
       "layout": "IPY_MODEL_a5814e22371c4e028acb8bedfee5cb3b",
       "placeholder": "​",
       "style": "IPY_MODEL_1e63d6ccf75e45de93f48f0b9dd96eaf",
       "value": " 32160/32160 [40:03&lt;00:00, 13.56it/s]"
      }
     },
     "d1428ee0e9f747d5885191d027240ee3": {
      "model_module": "@jupyter-widgets/controls",
      "model_module_version": "1.5.0",
      "model_name": "ProgressStyleModel",
      "state": {
       "_model_module": "@jupyter-widgets/controls",
       "_model_module_version": "1.5.0",
       "_model_name": "ProgressStyleModel",
       "_view_count": null,
       "_view_module": "@jupyter-widgets/base",
       "_view_module_version": "1.2.0",
       "_view_name": "StyleView",
       "bar_color": null,
       "description_width": ""
      }
     }
    },
    "version_major": 2,
    "version_minor": 0
   }
  }
 },
 "nbformat": 4,
 "nbformat_minor": 5
}
